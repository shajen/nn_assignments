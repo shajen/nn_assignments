{
 "cells": [
  {
   "cell_type": "markdown",
   "metadata": {},
   "source": [
    "# Assignment 1\n",
    "\n",
    "**Submission deadline:**\n",
    "* **Problems 1-4: last lab session before or on Wednesday, 18.10.17**\n",
    "* **Problems 5-6: last lab session before or on Wednesday, 25.10.17**\n",
    "\n",
    "**Points: 10 + 4 bonus points**\n",
    "\n",
    "Please note: some of the assignments are tedious or boring if you are already a NumPy ninja. The bonus problems were designed to give you a more satisfying alternative.\n",
    "\n",
    "## Downloading this notebook\n",
    "\n",
    "This assignment is an Jupyter notebook. Download it by cloning https://github.com/janchorowski/nn_assignments. Follow the instructions in its README for instructions. Whenever possible, add your solutions to the notebook. \n",
    "\n",
    "Please email us about any problems with it - we will try to correct them quickly. Also, please do not hesitate to use **GitHub’s pull requests** to send us corrections!"
   ]
  },
  {
   "cell_type": "code",
   "execution_count": 27,
   "metadata": {
    "collapsed": true
   },
   "outputs": [],
   "source": [
    "# Standard IPython notebook imports\n",
    "%matplotlib inline\n",
    "\n",
    "from __future__ import absolute_import\n",
    "from __future__ import division\n",
    "from __future__ import print_function\n",
    "\n",
    "import os\n",
    "\n",
    "import numpy as np\n",
    "import matplotlib.pyplot as plt\n",
    "\n",
    "from sklearn import datasets"
   ]
  },
  {
   "cell_type": "markdown",
   "metadata": {},
   "source": [
    "## Problem 0 [0p]\n",
    "1. Get familiar with [lab_guide.pdf](https://github.com/janchorowski/nn_assignments/blob/nn17_fall/lab_guide.pdf). It is not obligatory to use the labs remotely and most of the time you will do just fine with your own machine. However, we recommend using labs for the most computationally-intensive tasks such as the final projects.\n",
    "\n",
    "    Make sure you know how to:\n",
    "    * load the Anaconda Python distribution with `/pio/os/anaconda/set-env.sh` (confirm with `python -V`)\n",
    "    <br/>\n",
    "    (also: look into this `nn_assignments`' `set-env.sh` and see that it loads `Anaconda` for you),\n",
    "    * connect to labs 110/137 from *outside* of the faculty,\n",
    "    * copy a file over an ssh tunnel or connect remotely to a Jupyter Notebook,\n",
    "    * use `GNU screen`, `tmux` and/or `nohup`,\n",
    "    * leave a process running, disconnect, connect again and verify it is still running.\n",
    "  \n",
    "  In case of problems, ask for help!\n",
    "  \n",
    "  \n",
    "2. Read [Jupyter tutorial from Data Analysis in Biological Sciences course at Caltech](http://bebi103.caltech.edu/2015/tutorials/t0b_intro_to_jupyter_notebooks.html) (which itself can be downloaded as a Jupyter notebook). Feel free to skip the tutorial if you have some prior experience with Jupyter notebook."
   ]
  },
  {
   "cell_type": "markdown",
   "metadata": {},
   "source": [
    "## Problem 1 [2p]\n",
    "\n",
    "First, get familiar with Python at https://docs.python.org/2/tutorial/. Then, get\n",
    "to know the capabilities of NumPy, the prime numerical library of Python http://www.numpy.org/, for instance with the tutorial at http://wiki.scipy.org/Tentative_NumPy_Tutorial.\n",
    "\n",
    "You might also need:\n",
    "  1. another intro to NumPy,\n",
    "http://people.duke.edu/~ccc14/pcfb/numerics.html\n",
    "  2. a better interactive shell for Python,\n",
    "http://ipython.org/\n",
    "  3. access to IPython through an ordinary web browser,\n",
    "http://ipython.org/notebook.html\n",
    "  4. a plotting library for Python.\n",
    "http://matplotlib.org/\n",
    "\n",
    "**a) Declare variables:**\n",
    "1. $a=10$,\n",
    "2. $b=2.5\\times 10^{23}$,\n",
    "3. $c=2+3i$, where $i$ is an imaginary unit,\n",
    "4. $d=e^{i2\\pi/3}$, where $i$ is an imaginary unit, $e$ is the Euler's number (use `exp`, `pi`)."
   ]
  },
  {
   "cell_type": "code",
   "execution_count": 110,
   "metadata": {},
   "outputs": [
    {
     "data": {
      "text/plain": [
       "(10, 2.5e+23, (2+3j), (-0.49999999999999978+0.86602540378443871j))"
      ]
     },
     "execution_count": 110,
     "metadata": {},
     "output_type": "execute_result"
    }
   ],
   "source": [
    "# TODO: Complete the declarations\n",
    "a = 10\n",
    "b = 2.5 * 10**23\n",
    "c = 2 + 3j\n",
    "d = exp(1j * 2 * math.pi / 3)\n",
    "\n",
    "a, b, c, d"
   ]
  },
  {
   "cell_type": "markdown",
   "metadata": {},
   "source": [
    "**b) Declare vectors:**\n",
    "1. $aVec=\\begin{bmatrix} 3.14 & 15 & 9 & 26 \\end{bmatrix}$,\n",
    "2. $bVec=\\begin{bmatrix} 2.71 & 8 & 28 & 182 \\end{bmatrix}^\\intercal$ (column vector),\n",
    "3. $cVec=\\begin{bmatrix} 5 & 4.8 & \\cdots & -4.8 & -5 \\end{bmatrix}$ (vector of numbers from $5$ to $-5$ decreasing by $0.2$),\n",
    "4. $dVec=\\begin{bmatrix} 10^0 & 10^{0.01} & \\cdots & 10^{0.99} & 10^1 \\end{bmatrix}$ (logarithmically spaced numbers from 1 to 10, use `logspace` and make sure, that the result has correct length!),\n",
    "5. $eVec=Hello$ ($eVec$ is a string of characters, thus a vector)."
   ]
  },
  {
   "cell_type": "code",
   "execution_count": 117,
   "metadata": {},
   "outputs": [
    {
     "data": {
      "text/plain": [
       "(matrix([[  3.14,  15.  ,   9.  ,  26.  ]]), matrix([[   2.71],\n",
       "         [   8.  ],\n",
       "         [  28.  ],\n",
       "         [ 182.  ]]), matrix([[  5.00000000e+00,   4.80000000e+00,   4.60000000e+00,\n",
       "            4.40000000e+00,   4.20000000e+00,   4.00000000e+00,\n",
       "            3.80000000e+00,   3.60000000e+00,   3.40000000e+00,\n",
       "            3.20000000e+00,   3.00000000e+00,   2.80000000e+00,\n",
       "            2.60000000e+00,   2.40000000e+00,   2.20000000e+00,\n",
       "            2.00000000e+00,   1.80000000e+00,   1.60000000e+00,\n",
       "            1.40000000e+00,   1.20000000e+00,   1.00000000e+00,\n",
       "            8.00000000e-01,   6.00000000e-01,   4.00000000e-01,\n",
       "            2.00000000e-01,  -4.44089210e-15,  -2.00000000e-01,\n",
       "           -4.00000000e-01,  -6.00000000e-01,  -8.00000000e-01,\n",
       "           -1.00000000e+00,  -1.20000000e+00,  -1.40000000e+00,\n",
       "           -1.60000000e+00,  -1.80000000e+00,  -2.00000000e+00,\n",
       "           -2.20000000e+00,  -2.40000000e+00,  -2.60000000e+00,\n",
       "           -2.80000000e+00,  -3.00000000e+00,  -3.20000000e+00,\n",
       "           -3.40000000e+00,  -3.60000000e+00,  -3.80000000e+00,\n",
       "           -4.00000000e+00,  -4.20000000e+00,  -4.40000000e+00,\n",
       "           -4.60000000e+00,  -4.80000000e+00,  -5.00000000e+00]]), matrix([[  1.        ,   1.02329299,   1.04712855,   1.07151931,\n",
       "            1.0964782 ,   1.12201845,   1.14815362,   1.17489755,\n",
       "            1.20226443,   1.23026877,   1.25892541,   1.28824955,\n",
       "            1.31825674,   1.34896288,   1.38038426,   1.41253754,\n",
       "            1.44543977,   1.47910839,   1.51356125,   1.54881662,\n",
       "            1.58489319,   1.6218101 ,   1.65958691,   1.69824365,\n",
       "            1.73780083,   1.77827941,   1.81970086,   1.86208714,\n",
       "            1.90546072,   1.9498446 ,   1.99526231,   2.04173794,\n",
       "            2.08929613,   2.13796209,   2.18776162,   2.23872114,\n",
       "            2.29086765,   2.34422882,   2.39883292,   2.45470892,\n",
       "            2.51188643,   2.57039578,   2.63026799,   2.6915348 ,\n",
       "            2.7542287 ,   2.81838293,   2.8840315 ,   2.95120923,\n",
       "            3.01995172,   3.09029543,   3.16227766,   3.23593657,\n",
       "            3.31131121,   3.38844156,   3.4673685 ,   3.54813389,\n",
       "            3.63078055,   3.71535229,   3.80189396,   3.89045145,\n",
       "            3.98107171,   4.07380278,   4.16869383,   4.26579519,\n",
       "            4.36515832,   4.46683592,   4.5708819 ,   4.67735141,\n",
       "            4.78630092,   4.89778819,   5.01187234,   5.12861384,\n",
       "            5.2480746 ,   5.37031796,   5.49540874,   5.62341325,\n",
       "            5.75439937,   5.88843655,   6.02559586,   6.16595002,\n",
       "            6.30957344,   6.45654229,   6.60693448,   6.76082975,\n",
       "            6.91830971,   7.07945784,   7.2443596 ,   7.41310241,\n",
       "            7.58577575,   7.76247117,   7.94328235,   8.12830516,\n",
       "            8.31763771,   8.51138038,   8.7096359 ,   8.91250938,\n",
       "            9.12010839,   9.33254301,   9.54992586,   9.77237221,  10.        ]]), matrix([['H', 'e', 'l', 'l', 'o']],\n",
       "        dtype='|S1'))"
      ]
     },
     "execution_count": 117,
     "metadata": {},
     "output_type": "execute_result"
    }
   ],
   "source": [
    "aVec = np.matrix([[3.14, 15, 9, 26]])\n",
    "bVec = np.matrix([[2.71], [8], [28], [182]])\n",
    "cVec = np.matrix([np.arange(5.0, -5.2, step=-0.2)])\n",
    "dVec = np.matrix([np.logspace(0.0, 1.0, base=10.0, num=101)])\n",
    "eVec = np.matrix(['H', 'e', 'l', 'l', 'o'])\n",
    "\n",
    "aVec, bVec, cVec, dVec, eVec"
   ]
  },
  {
   "cell_type": "markdown",
   "metadata": {},
   "source": [
    "**c) Declare matrices:**\n",
    "1. $aMat=\\begin{bmatrix}\n",
    "                    2      & \\cdots & 2 \\\\\n",
    "                    \\vdots & \\ddots & \\vdots \\\\\n",
    "                    2      & \\cdots & 2\n",
    "                \\end{bmatrix}$,\n",
    "<br/>\n",
    "matrix $9\\times 9$ filled with 2s (use `ones` or `zeros`),\n",
    "2. $bMat=\\begin{bmatrix}\n",
    "                    1      & 0      & \\cdots &        & 0      \\\\\n",
    "                    0      & \\ddots & 0      &        & 0      \\\\\n",
    "                    \\vdots & 0      & 5      & 0      & \\vdots \\\\\n",
    "                           &        & 0      & \\ddots & 0      \\\\\n",
    "                    0      &        & \\cdots & 0      & 1\n",
    "                \\end{bmatrix}$,\n",
    "<br/>\n",
    "matrix $9\\times 9$ filled with zeros, with $\\begin{bmatrix} 1 & 2 & 3 & 4 & 5 & 4 & 3 & 2 & 1 \\end{bmatrix}$ on its diagonal (use `zeros`, `diag`),\n",
    "3. $cMat=\\begin{bmatrix}\n",
    "                    1      & 11     & \\cdots & 91     \\\\\n",
    "                    2      & 12     & \\ddots & 92     \\\\\n",
    "                    \\vdots & \\vdots & \\ddots & \\vdots \\\\\n",
    "                    10     & 20     & \\cdots & 100\n",
    "                \\end{bmatrix}$,\n",
    "<br/>\n",
    "matrix $10\\times 10$, columns of which form the vector $1:100$ (use `reshape`),\n",
    "4. $dMat=\\begin{bmatrix}\n",
    "                    NaN & NaN & NaN & NaN \\\\\n",
    "                    NaN & NaN & NaN & NaN \\\\\n",
    "                    NaN & NaN & NaN & NaN\n",
    "                \\end{bmatrix}$,\n",
    "<br/>\n",
    "matrix $3\\times 4$ filled with `NaN`s (use... `NaN`),\n",
    "5. $eMat=\\begin{bmatrix}\n",
    "                    13  & -1  & 5  \\\\\n",
    "                    -22 & 10  & -87\n",
    "                \\end{bmatrix}$,\n",
    "<br/>\n",
    "6. $fMat$ filled with random natural numbers from $[-3,3]$ (use `rand` and `floor` or `ceil`)."
   ]
  },
  {
   "cell_type": "code",
   "execution_count": 118,
   "metadata": {},
   "outputs": [
    {
     "data": {
      "text/plain": [
       "(matrix([[ 2.,  2.,  2.,  2.,  2.,  2.,  2.,  2.,  2.],\n",
       "         [ 2.,  2.,  2.,  2.,  2.,  2.,  2.,  2.,  2.],\n",
       "         [ 2.,  2.,  2.,  2.,  2.,  2.,  2.,  2.,  2.],\n",
       "         [ 2.,  2.,  2.,  2.,  2.,  2.,  2.,  2.,  2.],\n",
       "         [ 2.,  2.,  2.,  2.,  2.,  2.,  2.,  2.,  2.],\n",
       "         [ 2.,  2.,  2.,  2.,  2.,  2.,  2.,  2.,  2.],\n",
       "         [ 2.,  2.,  2.,  2.,  2.,  2.,  2.,  2.,  2.],\n",
       "         [ 2.,  2.,  2.,  2.,  2.,  2.,  2.,  2.,  2.],\n",
       "         [ 2.,  2.,  2.,  2.,  2.,  2.,  2.,  2.,  2.]]),\n",
       " matrix([[ 1.,  0.,  0.,  0.,  0.,  0.,  0.,  0.,  0.],\n",
       "         [ 0.,  2.,  0.,  0.,  0.,  0.,  0.,  0.,  0.],\n",
       "         [ 0.,  0.,  3.,  0.,  0.,  0.,  0.,  0.,  0.],\n",
       "         [ 0.,  0.,  0.,  4.,  0.,  0.,  0.,  0.,  0.],\n",
       "         [ 0.,  0.,  0.,  0.,  5.,  0.,  0.,  0.,  0.],\n",
       "         [ 0.,  0.,  0.,  0.,  0.,  4.,  0.,  0.,  0.],\n",
       "         [ 0.,  0.,  0.,  0.,  0.,  0.,  3.,  0.,  0.],\n",
       "         [ 0.,  0.,  0.,  0.,  0.,  0.,  0.,  2.,  0.],\n",
       "         [ 0.,  0.,  0.,  0.,  0.,  0.,  0.,  0.,  1.]]),\n",
       " matrix([[  1,  11,  21,  31,  41,  51,  61,  71,  81,  91],\n",
       "         [  2,  12,  22,  32,  42,  52,  62,  72,  82,  92],\n",
       "         [  3,  13,  23,  33,  43,  53,  63,  73,  83,  93],\n",
       "         [  4,  14,  24,  34,  44,  54,  64,  74,  84,  94],\n",
       "         [  5,  15,  25,  35,  45,  55,  65,  75,  85,  95],\n",
       "         [  6,  16,  26,  36,  46,  56,  66,  76,  86,  96],\n",
       "         [  7,  17,  27,  37,  47,  57,  67,  77,  87,  97],\n",
       "         [  8,  18,  28,  38,  48,  58,  68,  78,  88,  98],\n",
       "         [  9,  19,  29,  39,  49,  59,  69,  79,  89,  99],\n",
       "         [ 10,  20,  30,  40,  50,  60,  70,  80,  90, 100]]),\n",
       " matrix([[ nan,  nan,  nan,  nan],\n",
       "         [ nan,  nan,  nan,  nan],\n",
       "         [ nan,  nan,  nan,  nan]]),\n",
       " matrix([[ 13,  -1,   5],\n",
       "         [-22,  10, -87]]),\n",
       " matrix([[ 1,  3, -2,  1],\n",
       "         [-3,  2,  1, -2],\n",
       "         [ 0,  3, -3,  3],\n",
       "         [-3, -1, -2, -3]]))"
      ]
     },
     "execution_count": 118,
     "metadata": {},
     "output_type": "execute_result"
    }
   ],
   "source": [
    "aMat = np.matrix(np.zeros((9, 9)))\n",
    "aMat.fill(2)\n",
    "\n",
    "bMat = np.matrix(np.zeros((9,9)))\n",
    "diagonal = np.append(np.arange(1, 6, step=1), np.arange(4, 0, step=-1), axis=0)\n",
    "np.fill_diagonal(bMat, diagonal)\n",
    "\n",
    "cMat = np.matrix(np.arange(1, 101).reshape((10, 10), order='F'))\n",
    "\n",
    "dMat = np.matrix(np.empty((3,4)))\n",
    "dMat.fill(np.NAN)\n",
    "\n",
    "eMat = np.matrix(np.array([13, -1, 5, -22, 10, -87]).reshape(2,3))\n",
    "\n",
    "fMat = np.matrix(np.array([int(math.floor(7 * x - 3)) for x in np.random.rand(16)]).reshape((4,4)))\n",
    "\n",
    "aMat, bMat, cMat, dMat, eMat, fMat"
   ]
  },
  {
   "cell_type": "markdown",
   "metadata": {},
   "source": [
    "** d) Declare a multiplication table ** as a $10\\times 10$ matrix `mulMat`. Use matrix/vector multiplication."
   ]
  },
  {
   "cell_type": "code",
   "execution_count": 93,
   "metadata": {},
   "outputs": [
    {
     "data": {
      "text/plain": [
       "matrix([[ -4,  -8,  -1,  -7,   8,  -3,   2,   5, -13,  -8],\n",
       "        [  6,  -6, -11,  -6,   3,   6, -10,  -8,   2,  -4],\n",
       "        [  4,   5,   1,  -2,   7,  -3,   1,  -3,   8,  -3],\n",
       "        [  2,   7,   5,  -1,   8,  -6,   5,   0,   7,  -3],\n",
       "        [  0,  -9,  -8,  -3,  -3,   6,  -7,  -2,  -7,  -1],\n",
       "        [ -4, -14,  -8,  -4,  -4,   6,  -6,   2, -16,  -2],\n",
       "        [  6,  -9, -13,  -9,   6,   6, -11,  -8,  -1,  -7],\n",
       "        [ -4, -17, -10,  -7,  -1,   6,  -7,   2, -19,  -5],\n",
       "        [  4,  -1,  -4,  -5,   7,   0,  -3,  -4,   3,  -5],\n",
       "        [ -4,   7,  10,   5,  -1,  -6,   9,   6,   1,   3]])"
      ]
     },
     "execution_count": 93,
     "metadata": {},
     "output_type": "execute_result"
    }
   ],
   "source": [
    "a = np.matrix(np.array([int(math.floor(7 * x - 3)) for x in np.random.rand(30)]).reshape((10, 3)))\n",
    "b = np.matrix(np.array([int(math.floor(7 * x - 3)) for x in np.random.rand(30)]).reshape((3, 10)))\n",
    "mulMat = a * b\n",
    "\n",
    "mulMat"
   ]
  },
  {
   "cell_type": "markdown",
   "metadata": {},
   "source": [
    "** e) Compute elemwise using values from b).**\n",
    "For instance, the first element of $xVec[0]$ should be equal to\n",
    "\n",
    "\\begin{equation}\n",
    "1/(\\sqrt{2\\pi2.5^2}) e^{-cVec[0]^2 / (2\\cdot\\pi 2.5^2)}.\n",
    "\\end{equation}\n",
    "\n",
    "1. $xVec=1/(\\sqrt{2\\pi2.5^2}) e^{-cVec^2 / (2\\cdot\\pi 2.5^2)}$\n",
    "2. $yVec=\\sqrt{(aVec^\\intercal)^2 + bVec^2}$\n",
    "3. $zVec=\\log_{10}(1/dVec)$, using `log10`"
   ]
  },
  {
   "cell_type": "code",
   "execution_count": 94,
   "metadata": {},
   "outputs": [
    {
     "data": {
      "text/plain": [
       "(matrix([[ 0.30161332,  0.286929  ,  0.27351624,  0.26126216,  0.25006601,\n",
       "           0.23983775,  0.23049694,  0.22197166,  0.21419761,  0.20711734,\n",
       "           0.2006795 ,  0.1948383 ,  0.18955287,  0.18478689,  0.18050809,\n",
       "           0.17668795,  0.17330134,  0.17032628,  0.16774366,  0.1655371 ,\n",
       "           0.16369269,  0.16219892,  0.16104653,  0.16022841,  0.15973954,\n",
       "           0.15957691,  0.15973954,  0.16022841,  0.16104653,  0.16219892,\n",
       "           0.16369269,  0.1655371 ,  0.16774366,  0.17032628,  0.17330134,\n",
       "           0.17668795,  0.18050809,  0.18478689,  0.18955287,  0.1948383 ,\n",
       "           0.2006795 ,  0.20711734,  0.21419761,  0.22197166,  0.23049694,\n",
       "           0.23983775,  0.25006601,  0.26126216,  0.27351624,  0.286929  ,\n",
       "           0.30161332]]), matrix([[   4.14773432],\n",
       "         [  17.        ],\n",
       "         [  29.41088234],\n",
       "         [ 183.84776311]]), matrix([[ 0.  , -0.01, -0.02, -0.03, -0.04, -0.05, -0.06, -0.07, -0.08,\n",
       "          -0.09, -0.1 , -0.11, -0.12, -0.13, -0.14, -0.15, -0.16, -0.17,\n",
       "          -0.18, -0.19, -0.2 , -0.21, -0.22, -0.23, -0.24, -0.25, -0.26,\n",
       "          -0.27, -0.28, -0.29, -0.3 , -0.31, -0.32, -0.33, -0.34, -0.35,\n",
       "          -0.36, -0.37, -0.38, -0.39, -0.4 , -0.41, -0.42, -0.43, -0.44,\n",
       "          -0.45, -0.46, -0.47, -0.48, -0.49, -0.5 , -0.51, -0.52, -0.53,\n",
       "          -0.54, -0.55, -0.56, -0.57, -0.58, -0.59, -0.6 , -0.61, -0.62,\n",
       "          -0.63, -0.64, -0.65, -0.66, -0.67, -0.68, -0.69, -0.7 , -0.71,\n",
       "          -0.72, -0.73, -0.74, -0.75, -0.76, -0.77, -0.78, -0.79, -0.8 ,\n",
       "          -0.81, -0.82, -0.83, -0.84, -0.85, -0.86, -0.87, -0.88, -0.89,\n",
       "          -0.9 , -0.91, -0.92, -0.93, -0.94, -0.95, -0.96, -0.97, -0.98,\n",
       "          -0.99, -1.  ]]))"
      ]
     },
     "execution_count": 94,
     "metadata": {},
     "output_type": "execute_result"
    }
   ],
   "source": [
    "xVec = 1.0 / np.sqrt(2.0 * np.pi * 2.5**2) * np.exp(np.power(cVec,2) / (2.0 * np.pi * 2.5**2))\n",
    "yVec = np.sqrt(np.power(aVec.T, 2) + np.power(bVec, 2))\n",
    "zVec = np.log10(1.0 / dVec)\n",
    "\n",
    "xVec, yVec, zVec"
   ]
  },
  {
   "cell_type": "markdown",
   "metadata": {},
   "source": [
    "** f) Compute with matrix/vector operations using values from c).**\n",
    "\n",
    "**NOTE:** Every multiplication (and power) in this subtask is a [matrix multiplication](https://en.wikipedia.org/wiki/Matrix_multiplication).\n",
    "1. $xMat=(aVec\\cdot bVec)aMat^2$,\n",
    "2. $yMat=bVec\\cdot aVec$\n",
    "<br/>\n",
    "(remember, that matrix multiplication is not commutative),\n",
    "4. $zMat=\\lvert cMat\\rvert (aMat\\cdot bMat)^\\intercal$, where $\\lvert A\\rvert$ denotes determinant of $A$ (use `det`)."
   ]
  },
  {
   "cell_type": "code",
   "execution_count": 119,
   "metadata": {},
   "outputs": [
    {
     "data": {
      "text/plain": [
       "(matrix([[ 184050.3384,  184050.3384,  184050.3384,  184050.3384,\n",
       "           184050.3384,  184050.3384,  184050.3384,  184050.3384,\n",
       "           184050.3384],\n",
       "         [ 184050.3384,  184050.3384,  184050.3384,  184050.3384,\n",
       "           184050.3384,  184050.3384,  184050.3384,  184050.3384,\n",
       "           184050.3384],\n",
       "         [ 184050.3384,  184050.3384,  184050.3384,  184050.3384,\n",
       "           184050.3384,  184050.3384,  184050.3384,  184050.3384,\n",
       "           184050.3384],\n",
       "         [ 184050.3384,  184050.3384,  184050.3384,  184050.3384,\n",
       "           184050.3384,  184050.3384,  184050.3384,  184050.3384,\n",
       "           184050.3384],\n",
       "         [ 184050.3384,  184050.3384,  184050.3384,  184050.3384,\n",
       "           184050.3384,  184050.3384,  184050.3384,  184050.3384,\n",
       "           184050.3384],\n",
       "         [ 184050.3384,  184050.3384,  184050.3384,  184050.3384,\n",
       "           184050.3384,  184050.3384,  184050.3384,  184050.3384,\n",
       "           184050.3384],\n",
       "         [ 184050.3384,  184050.3384,  184050.3384,  184050.3384,\n",
       "           184050.3384,  184050.3384,  184050.3384,  184050.3384,\n",
       "           184050.3384],\n",
       "         [ 184050.3384,  184050.3384,  184050.3384,  184050.3384,\n",
       "           184050.3384,  184050.3384,  184050.3384,  184050.3384,\n",
       "           184050.3384],\n",
       "         [ 184050.3384,  184050.3384,  184050.3384,  184050.3384,\n",
       "           184050.3384,  184050.3384,  184050.3384,  184050.3384,\n",
       "           184050.3384]]),\n",
       " matrix([[    8.5094,    40.65  ,    24.39  ,    70.46  ],\n",
       "         [   25.12  ,   120.    ,    72.    ,   208.    ],\n",
       "         [   87.92  ,   420.    ,   252.    ,   728.    ],\n",
       "         [  571.48  ,  2730.    ,  1638.    ,  4732.    ]]),\n",
       " matrix([[ 0.,  0.,  0.,  0.,  0.,  0.,  0.,  0.,  0.],\n",
       "         [ 0.,  0.,  0.,  0.,  0.,  0.,  0.,  0.,  0.],\n",
       "         [ 0.,  0.,  0.,  0.,  0.,  0.,  0.,  0.,  0.],\n",
       "         [ 0.,  0.,  0.,  0.,  0.,  0.,  0.,  0.,  0.],\n",
       "         [ 0.,  0.,  0.,  0.,  0.,  0.,  0.,  0.,  0.],\n",
       "         [ 0.,  0.,  0.,  0.,  0.,  0.,  0.,  0.,  0.],\n",
       "         [ 0.,  0.,  0.,  0.,  0.,  0.,  0.,  0.,  0.],\n",
       "         [ 0.,  0.,  0.,  0.,  0.,  0.,  0.,  0.,  0.],\n",
       "         [ 0.,  0.,  0.,  0.,  0.,  0.,  0.,  0.,  0.]]))"
      ]
     },
     "execution_count": 119,
     "metadata": {},
     "output_type": "execute_result"
    }
   ],
   "source": [
    "xMat = (aVec * bVec).item(0,0) * aMat ** 2\n",
    "yMat = bVec * aVec\n",
    "zMat = np.linalg.det(cMat) * ((aMat * bMat).T)\n",
    "\n",
    "xMat, yMat, zMat"
   ]
  },
  {
   "cell_type": "markdown",
   "metadata": {},
   "source": [
    "** g) Declare `ismagic(A)` function ** which checks if matrix $A$ is a [magic square](https://en.wikipedia.org/wiki/Magic_square) and returns a boolean."
   ]
  },
  {
   "cell_type": "code",
   "execution_count": 109,
   "metadata": {},
   "outputs": [
    {
     "name": "stdout",
     "output_type": "stream",
     "text": [
      "65 65 [[65 65 65 65 65]] [[65 65 65 65 65]]\n",
      "[[11 24  7 20  3]\n",
      " [ 4 12 25  8 16]\n",
      " [17  5 13 21  9]\n",
      " [10 18  1 14 22]\n",
      " [23  6 19  2 15]] True\n",
      "46 46 [65 71 40 73 76] [55 77 64 58 71]\n",
      "[[ 8  1  2 20 24]\n",
      " [ 5 22  7 18 25]\n",
      " [14 13  9 11 17]\n",
      " [23 16 10  3  6]\n",
      " [15 19 12 21  4]] False\n",
      "34 34 [[34 34 34 34]] [[34 34 34 34]]\n",
      "[[ 4 14 15  1]\n",
      " [ 9  7  6 12]\n",
      " [ 5 11 10  8]\n",
      " [16  2  3 13]] True\n",
      "15 15 [33 38 20 45] [41 36 36 23]\n",
      "[[ 4  9 12 16]\n",
      " [13  7  5 11]\n",
      " [ 6 14  1 15]\n",
      " [10  8  2  3]] False\n"
     ]
    }
   ],
   "source": [
    "def ismagic(A):\n",
    "    d1 = np.sum(A.diagonal())\n",
    "    d2 = np.sum(A.T.diagonal())\n",
    "    cs = np.sum(A, axis=0)\n",
    "    rs = np.sum(A, axis=1)\n",
    "    print(d1, d2, cs, rs.T)\n",
    "    return np.array_equal(cs, rs.T) and d1 == d2 and d2 == cs.item(0,0)\n",
    "\n",
    "def shuffle(A):\n",
    "    size = A.diagonal().size\n",
    "    B = A.flatten().A1\n",
    "    np.random.shuffle(B)\n",
    "    return B.reshape((size, size))\n",
    "\n",
    "A = np.matrix([[11, 24, 7, 20, 3], [4, 12, 25, 8, 16], [17, 5, 13, 21, 9], [10, 18, 1, 14, 22], [23, 6, 19, 2, 15]])\n",
    "print(A, ismagic(A))\n",
    "B = shuffle(A)\n",
    "print(B, ismagic(B))\n",
    "\n",
    "A = np.matrix([[4, 14, 15, 1], [9, 7, 6, 12], [5, 11, 10, 8], [16, 2, 3, 13]])\n",
    "print(A, ismagic(A))\n",
    "B = shuffle(A)\n",
    "print(B, ismagic(B))"
   ]
  },
  {
   "cell_type": "markdown",
   "metadata": {},
   "source": [
    "# k-Nearest Neighbors\n",
    "\n",
    "The following excerpt of code loads the data describing iris flowers\n",
    "and shows relations between their length and petal width for three\n",
    "species (namely: setosa, versicolor, virginica)."
   ]
  },
  {
   "cell_type": "code",
   "execution_count": 8,
   "metadata": {},
   "outputs": [
    {
     "name": "stdout",
     "output_type": "stream",
     "text": [
      "Populating the interactive namespace from numpy and matplotlib\n",
      "Features:  ['sepal length (cm)', 'sepal width (cm)', 'petal length (cm)', 'petal width (cm)']\n",
      "Targets:  ['setosa' 'versicolor' 'virginica']\n"
     ]
    },
    {
     "data": {
      "image/png": "[encoded data removed]",
      "text/plain": [
       "<matplotlib.figure.Figure at 0x7f500c5aff90>"
      ]
     },
     "metadata": {},
     "output_type": "display_data"
    }
   ],
   "source": [
    "# pylab - loads numerical and graphical libraries into the IPython notebook\n",
    "%pylab inline\n",
    "\n",
    "# sklearn is a large collection of machine learning algorithms\n",
    "# here we’ll use it only for the built-in iris dataset\n",
    "from sklearn import datasets\n",
    "\n",
    "iris = datasets.load_iris()\n",
    "\n",
    "print('Features: ', iris.feature_names)\n",
    "print('Targets: ', iris.target_names)\n",
    "\n",
    "petal_length = iris.data[:, iris.feature_names.index('petal length (cm)')]\n",
    "petal_width = iris.data[:, iris.feature_names.index('petal width (cm)')]\n",
    "\n",
    "for target in set(iris.target):\n",
    "    example_ids = target == iris.target\n",
    "    scatter(petal_length[example_ids], petal_width[example_ids],\n",
    "            label=iris.target_names[target], color='bgr'[target],\n",
    "            marker='x', alpha=0.7)\n",
    "unknown = np.array([\n",
    "    [1.5, 0.3],\n",
    "    [4.5, 1.2],\n",
    "    [5.5, 2.3],\n",
    "    [5.1, 1.7]\n",
    "])\n",
    "scatter(unknown[:, 0], unknown[:, 1], marker='v',\n",
    "        color='gray', s=50, label='??')\n",
    "xlabel('petal length (cm)')\n",
    "ylabel('petal width (cm)')\n",
    "grid(True)\n",
    "legend(loc='upper left');"
   ]
  },
  {
   "cell_type": "markdown",
   "metadata": {},
   "source": [
    "Based on these two features, it is easy to distinguish iris setosa from the two remaining species. Yet iris versicolor and virginica remain mixed together. \n",
    "\n",
    "Looking closely at the plot, we might estimate the species of the selected unknown irises (gray triangles). For three of them the answer seems obvious – they belong in uniformly-colored areas covered by one species only. Yet unknown iris flower in (5.1, 1.7) is troublesome – it lays on the boundary of versicolor and virginica clusters. We can assume, that its species is the one of the closest one to it, coming from the training set (and so having a label). \n",
    "\n",
    "K-Nearest Neighbors method (http://en.wikipedia.org/wiki/K-nearest_neighbors_algorithm) solves the classification problem, i.e. sets class labels (species in case of irises) of a previously unseen sample by choosing the most common class among the top k neighbors of the sample in question (for instance according to the Euclidean distance). Thus, the k-Nearest Neighbors algorithm works as follows. For each unlabeled sample x:\n",
    "1. Find k nearest neighbors among the labeled samples.\n",
    "2. Set the most common label among them as label of x."
   ]
  },
  {
   "cell_type": "markdown",
   "metadata": {},
   "source": [
    "## Problem 2 [2p]\n",
    "\n",
    "1.  **[1p]** Load the iris data (in Python it’s built-in into machine learning libraries, use sklearn.datasets.load_iris), the data is also available on-line at https://archive.ics.uci.edu/ml/datasets/Iris\n",
    "\n",
    "2.  **[1p]** Irises are described with 4 attributes: petal and sepal widths and lengths. We often plot such data as matrices depicting relationships between pairs of attributes (the diagonal of which holds an ordinary histogram). Write code making a plot like the one below. Please pay attention to the details: make a proper legend and correctly label the axes.\n",
    "\n",
    "<img src=\"iris4x4.png\"/>"
   ]
  },
  {
   "cell_type": "code",
   "execution_count": 165,
   "metadata": {},
   "outputs": [
    {
     "data": {
      "text/plain": [
       "<matplotlib.legend.Legend at 0x7f4ff6689d10>"
      ]
     },
     "execution_count": 165,
     "metadata": {},
     "output_type": "execute_result"
    },
    {
     "data": {
      "image/png": "[encoded data removed]",
      "text/plain": [
       "<matplotlib.figure.Figure at 0x7f4ffecc9090>"
      ]
     },
     "metadata": {},
     "output_type": "display_data"
    }
   ],
   "source": [
    "from sklearn import datasets\n",
    "iris = datasets.load_iris()\n",
    "\n",
    "def drawIris(ax, i, j):\n",
    "    if i == j:\n",
    "        ax.hist(iris.data[:, i], edgecolor='black', color='b')\n",
    "    else:\n",
    "        for target in set(iris.target):\n",
    "            example_ids = target == iris.target\n",
    "            ax.scatter(iris.data[:, i][example_ids], iris.data[:, j][example_ids], label=iris.target_names[target], color='bgr'[target], marker='o')\n",
    "\n",
    "fig, ax = plt.subplots(4, 4, figsize = (12, 12))\n",
    "for i in range(4):\n",
    "    for j in range(4):\n",
    "        drawIris(ax[i, j], i, j)\n",
    "    ax[i, 0].set_ylabel( iris.feature_names[i])\n",
    "    ax[3, i].set_xlabel( iris.feature_names[i])\n",
    "\n",
    "handles, labels = ax[0, 1].get_legend_handles_labels()\n",
    "fig.legend(handles, labels, loc='upper center', ncol=3, fontsize='large', scatterpoints=3)"
   ]
  },
  {
   "cell_type": "markdown",
   "metadata": {},
   "source": [
    "## Problem 3 [2p]\n",
    "\n",
    "Implement the k-Nearest Neighbors algorithm. Try to\n",
    "take advantage of matrix calculus rather than using for loops.\n",
    "\n",
    "**Tip:** What is computed by \\begin{equation} \\sqrt{(X - Y)^T (X - Y)} \\end{equation} when both X and Y are vectors?\n",
    "\n",
    "**Tip:** Try to use broadcasting (NumPy: http://docs.scipy.org/doc/numpy/user/basics.broadcasting.html) and built-ins sort, numpy.sort, numpy.argsort (sorting), scipy.stats.mode (choosing the most common element of the set)."
   ]
  },
  {
   "cell_type": "markdown",
   "metadata": {},
   "source": [
    "## Problem 4 [2p]\n",
    "Consider the following experiment:\n",
    "1. We scramble the data and split it into two parts - training set (66.6% of all samples) and test set (33.4%).\n",
    "2. Based on the training set, we use the k-NN algorithm to predict the labels on the test set.\n",
    "3. We then check the number of errors and write it down.\n",
    "\n",
    "Do this 500 times for k ∈ {1, 3, 5, ..., 19}. Plot a function of the average number of errors\n",
    "as the function of k. It should be similar to the one below.\n",
    "\n",
    "<img src=\"knn.png\"/>"
   ]
  },
  {
   "cell_type": "markdown",
   "metadata": {},
   "source": [
    "## Problem 5 [2p] \n",
    "\n",
    "Apply the K-Nearest Neighbors (K-NN) algorithm to the MNIST and CIFAR10 datasets. \n",
    "\n",
    "The MNIST (http://yann.lecun.com/exdb/mnist/) dataset consists of normalized (centered and stretched) scans of hand-written digits. Specifically, each element of the dataset is a 28 × 28 grayscale image, thus having 764 8-bit pixels. \n",
    "\n",
    "The CIFAR10 (http://www.cs.toronto.edu/~kriz/cifar.html) dataset consists of small, 32 by 32 pixels, RGB images belonging to 10 categories.\n",
    "\n",
    "1. **[1p]** Download and load the MNIST and CIFAR10 datasets. For both datasets, display a few objects from each of the classes, paying attention to aesthetics and clarity of your presentation. **Note:** the datasets are available on Lab computers. Please use the code below to get started.\n",
    "\n",
    "2. **[2p]** Apply a k-NN classifier to the MNIST and CIFAR10 datasets. First, divide the training set into two parts, which we will call training and validation. On MNIST use the first 50000 samples for training and the last 10000 for validation. On CIFAR10, use 40000 to train and 10000 for validation. Then find the optimal number of neighbors by assessing the accuracy on the validation set. You do not need to repeat this experiment multiple times. Finally, compute the accuracy on the test set obtained with the best previously chosen number of neighbors. On MNIST you should get about 3% errors, while on CIFAR10 you should get about 70% errors. Why CIFAR10 is harder than MNIST? Pick a few mislabeled samples from the test dataset and plot them along with the correct ones. **Note:**\n",
    "  * MNIST and CIFAR10 are much larger than the Iris dataset. A good implementation may need a few minutes on Lab computers. Please optimize your algorithm:\n",
    "  * Compute the distances only once, then test for different values of k.\n",
    "  * Use vectorized expressions to compute the distance. It is possible to compute all distances between the training and testing points in one expression. Hint: think about the vectorized expression \\begin{equation}(X - Y)^T (X - Y)\\end{equation}.\n",
    "  * You can use single precision numbers in computation.\n",
    "  * If your code is taking a long time to execute, please save its results before the lab session.\n",
    "\n",
    "**Note:** in NumPy, matrices have its own data type (dtype), which is retained during\n",
    "calculations. Please pay attention to it. I particular, do not subtract values of data types not\n",
    "having the sign bit, do not divide integers, etc. Results of such operations will not be\n",
    "automatically casted to types having the required precision."
   ]
  },
  {
   "cell_type": "code",
   "execution_count": 3,
   "metadata": {
    "collapsed": true
   },
   "outputs": [],
   "source": [
    "try:\n",
    "    import torchvision\n",
    "\n",
    "    data_path = os.environ.get('PYTORCH_DATA_PATH', '../data')\n",
    "\n",
    "    mnist_full_train_dataset = torchvision.datasets.MNIST(\n",
    "        data_path, train=True, download=True)\n",
    "    mnist_full_train_data_uint8 = mnist_full_train_dataset.train_data.numpy()\n",
    "    mnist_full_train_labels_int64 = mnist_full_train_dataset.train_labels.numpy()\n",
    "\n",
    "    mnist_test_dataset = torchvision.datasets.MNIST(\n",
    "        data_path, train=False, download=True)\n",
    "    mnist_test_data_uint8 = mnist_test_dataset.test_data.numpy()\n",
    "    mnist_test_labels_int64 = mnist_test_dataset.test_labels.numpy()\n",
    "    \n",
    "except ImportError:\n",
    "    # Load the same data without torchvision (e.g., on a personal machine)\n",
    "    with np.load('/pio/data/data/nn17/mnist.npz') as data:\n",
    "        mnist_full_train_data_uint8 = data['train_data']\n",
    "        mnist_full_train_labels_int64 = data['train_labels']\n",
    "        mnist_test_data_uint8 = data['test_data']\n",
    "        mnist_test_labels_int64 = data['test_labels']\n",
    "        \n",
    "# Split train data into train and validation sets\n",
    "mnist_train_data_uint8 = mnist_full_train_data_uint8[:50000]\n",
    "mnist_train_labels_int64 = mnist_full_train_labels_int64[:50000]\n",
    "mnist_valid_data_uint8 = mnist_full_train_data_uint8[50000:]\n",
    "mnist_valid_labels_int64 = mnist_full_train_labels_int64[50000:]"
   ]
  },
  {
   "cell_type": "code",
   "execution_count": 27,
   "metadata": {},
   "outputs": [
    {
     "data": {
      "image/png": "[encoded data removed]",
      "text/plain": [
       "<matplotlib.figure.Figure at 0x7f72ee1344d0>"
      ]
     },
     "metadata": {},
     "output_type": "display_data"
    }
   ],
   "source": [
    "from common.plotting import plot_mat\n",
    "\n",
    "plot_mat(mnist_train_data_uint8[:20, None], cmap='gray')"
   ]
  },
  {
   "cell_type": "code",
   "execution_count": null,
   "metadata": {
    "collapsed": true
   },
   "outputs": [],
   "source": [
    "try:\n",
    "    import torchvision\n",
    "    #\n",
    "    # TODO: load CIFAR10\n",
    "    #\n",
    "except ImportError:\n",
    "    with np.load('/pio/data/data/nn17/cifar.npz') as data:\n",
    "        cifar_full_train_data_uint8 = data['train_data']\n",
    "        cifar_full_train_labels_int64 = data['train_labels']\n",
    "        cifar_test_data_uint8 = data['test_data']\n",
    "        cifar_test_labels_int64 = data['test_labels']"
   ]
  },
  {
   "cell_type": "code",
   "execution_count": null,
   "metadata": {
    "collapsed": true
   },
   "outputs": [],
   "source": [
    "#\n",
    "# TODO: plot an example of each class on MNIST and on CIFAR-10\n",
    "#"
   ]
  },
  {
   "cell_type": "code",
   "execution_count": 30,
   "metadata": {
    "collapsed": true
   },
   "outputs": [],
   "source": [
    "from scipy.stats import mode\n",
    "\n",
    "\n",
    "def KNN(train_X, train_Y, test_X, test_Y, ks, batch_size=200):\n",
    "    \"\"\"\n",
    "    Compute error rate for various \n",
    "    \"\"\"\n",
    "    errs = np.zeros((len(ks),))\n",
    "    for i in xrange(0, test_Y.shape[0], batch_size):\n",
    "        batch_X = test_X[i:i + batch_size]\n",
    "        batch_Y = test_Y[i:i + batch_size]\n",
    "        print(\"Examples %d:%d Computing distances... \" %\n",
    "              (i, i + batch_size), end='')\n",
    "\n",
    "        #\n",
    "        # TODO: fill in an efficient distance matrix computation\n",
    "        #\n",
    "        dists = TODO\n",
    "\n",
    "        print(\"Sorting... \", end='')\n",
    "        closest = np.argsort(dists, 0)\n",
    "\n",
    "        print(\"Computing errors...\")\n",
    "        targets = train_Y[closest]\n",
    "\n",
    "        for ki, k in enumerate(ks):\n",
    "            predictions, unused_counts = mode(targets[:k, :], axis=0)\n",
    "            predictions = predictions.ravel()\n",
    "            #\n",
    "            # TODO: fill in error count computation\n",
    "            #\n",
    "            errs[ki] += TODO\n",
    "\n",
    "    errs /= test_Y.shape\n",
    "    return np.vstack((ks, errs))"
   ]
  },
  {
   "cell_type": "code",
   "execution_count": null,
   "metadata": {
    "collapsed": true
   },
   "outputs": [],
   "source": [
    "# Now find the best k on the validation set\n",
    "\n",
    "mnist_validation_errs = KNN(\n",
    "    mnist_train_data_uint8, mnist_train_labels_int64,\n",
    "    mnist_valid_data_uint8, mnist_valid_labels_int64,\n",
    "    [1, 3, 5, 7, 9])\n",
    "\n",
    "plot(mnist_validation_errs[0, :], mnist_validation_errs[1, :])"
   ]
  },
  {
   "cell_type": "code",
   "execution_count": null,
   "metadata": {
    "collapsed": true
   },
   "outputs": [],
   "source": [
    "# Now use the best k to compute the test error\n",
    "\n",
    "best_K = TODO\n",
    "\n",
    "mnist_full_train_data_uint8 = mnist_train_dataset.train_data.numpy()\n",
    "mnist_full_train_labels_int64 = mnist_train_dataset.train_labels.numpy()\n",
    "\n",
    "mnist_test_errs = KNN(mnist_full_train_data_uint8, \n",
    "                      mnist_full_train_labels_int64,\n",
    "                      mnist_test_data_uint8, \n",
    "                      mnist_test_labels_int64, [best_K])\n",
    "print(\"When k=%d the test error rate is %.1f%%\" %\n",
    "      (mnist_test_errs[0, 0], mnist_test_errs[1, 0] * 100.0))"
   ]
  },
  {
   "cell_type": "code",
   "execution_count": null,
   "metadata": {
    "collapsed": true
   },
   "outputs": [],
   "source": [
    "#\n",
    "# Now repeat the k-NN training for CIFAR10\n",
    "#"
   ]
  },
  {
   "cell_type": "markdown",
   "metadata": {},
   "source": [
    "# Locality sensitive hashing\n",
    "\n",
    "Problem 5 was about speeding up the inference using loops implicitly present in matrix multiplication instead of explicit loops in Python. In this problem, we will explore a strategy to truly reduce the total number of computations required to find nearest neighbors without sacrificing too much accuracy.\n",
    "\n",
    "To speed up nearest neighbor search we will employ *Locality Sensitive Hashing (LSH)* functions. For a given distance metric, the locality sensitive hash should put items that are similar into the same bucket. Notice that this is essentially a design choice opposite to traditional cryptographic hash functions that should amplify the difference of similar inputs (typically we want that small perturbations of data result in large changes to the hash value).\n",
    "\n",
    "One of the simplest implementations of LSH approximates the cosine distance. Let $x\\in \\mathbb{R}^N$ and $y\\in \\mathbb{R}^N$ be two vectors. Their cosine distance is defined as:\n",
    "\n",
    "\\begin{equation}\n",
    "    d_\\text{cos}(x,y) = \\frac{x \\cdot y}{\\|x\\| \\|y\\|} = \\cos\\left(\\theta(x,y)\\right),\n",
    "\\end{equation}\n",
    "where $\\theta(x,y)$ is the unsigned angle between $x$ and $y$.\n",
    "\n",
    "We will construct a family $H$ of hash functions that are an LSH for angle distances (an approximation to cosine distance). Assume $p\\in \\mathbb{R}^N$ is a random vector (components are sampled from the normal distribution) of length 1. Then define the hash function $h(x) = \\text{sgn}(x\\cdot p)$, where $\\text{sgn()}$ is the sign function. It can be proven that:\n",
    "\n",
    "\\begin{equation}\n",
    "    p_{h\\in H}[h(x)=h(y)] = 1 - \\frac{\\theta(x,y)}{\\pi}.\n",
    "\\end{equation}\n",
    "\n",
    "The equation means that the probability of a hash collision grows as the the angle between two vectors gets smaller. Therefore, vectors that are close according to the cosine distance will be put with high probability into the same bin (we use the fact that for small $\\theta$ we can approximate $\\cos(\\theta) = 1 - \\theta/\\pi$.\n",
    "\n",
    "We will say that a family of randomly chosen hash functions $H$ is $(d_1, d_2, p_1, p_2)$-sensitive with respect to a distance metric $d$ if for any $x$ and $y$:\n",
    "1. If $d(x,y) \\leq d_1$ then $p_{h\\in H}[h(x)=h(y)] \\geq p_1$.\n",
    "2. If $d(x,y) \\geq d_2$ then $p_{h\\in H}[h(x)=h(y)] \\leq p_2$.\n",
    "\n",
    "For example, our family of randomly chosen hyperplanes is $(d_1, d_2, (1-d_1)/\\pi, (1-d_2)/\\pi)$-sensitive.\n",
    "\n",
    "Ideally, vectors should be placed into the same bin with a high probability if their distance is smaller than a threshold, and with a low probability if their distance is larger that the threshold. By combining hashing functions we can get closer to this ideal sensitivity.\n",
    "\n",
    "Given a family of hash functions $H$ with sensitivity $(d_1, d_3, p_1, p_2)$ we can construct a new family $H'$ by combining $r$ functions from $H$:\n",
    "1. AND: let $h=[h_1, h_2, \\ldots, h_r] \\in H'$ and $h(x)=h(y)$ if and only if $\\forall_i h_i(x)=h_i(y)$. Then $H'$ is $(d_1, d_2, (p_1)^r, (p_2)^r)$-sensitive.\n",
    "2. OR: let $h=[h_1, h_2, \\ldots, h_r] \\in H'$ and $h(x)=h(y)$ if and only if $\\exists_i h_i(x)=h_i(y)$. Then $H'$ is $(d_1, d_2, 1-(1-p_1)^r, 1-(1-p_2)^r)$-sensitive.\n",
    "\n",
    "AND makes all probabilities shrink, but properly choosing $r$ we can make the lower probability approach 0 while the higher does not. Conversely, OR makes all probabilities grow, we can make the upper probability approach 1 while the lower does not.\n",
    "\n",
    "\n",
    "\n",
    "## Problem 6 [2-4p bonus] \n",
    "\n",
    "1. **[1bp]** **Note:** you can show sketches of proofs for this assignment.\n",
    "    1. Show that angle between vectors is a metric (https://en.wikipedia.org/wiki/Metric_(mathematics)).\n",
    "    \n",
    "    2. Show that $p_{h\\in H}[h(x)=h(y)] = 1 - \\frac{\\theta(x,y)}{\\pi}$ for $h$ computed using a randomly chosen hyperplane.\n",
    "\n",
    "    3. Show the properties of either AND or OR boosting of LSH.\n",
    "\n",
    "3. **[1-3bp]** Reimplement k-Nearest Neighbors for MNIST classification using the cosine distance instead of the Euclidean distance. Choose a sensible value of $k$. Use Locality Sensitive Hashing to achieve an error rate no greater than $150\\%$ of the original error rate with at least a $90\\%$ speedup (i.e., by considering on average at most 5000 training samples per query image). For a few settings plot the speedup-vs-accuracy relation.\n",
    "\n",
    "  **Note:** points will be awarded based on ingenuity of your solution. Feel free to explore your own ideas!\n"
   ]
  },
  {
   "cell_type": "code",
   "execution_count": null,
   "metadata": {
    "collapsed": true
   },
   "outputs": [],
   "source": []
  }
 ],
 "metadata": {
  "kernelspec": {
   "display_name": "Python 2",
   "language": "python",
   "name": "python2"
  },
  "language_info": {
   "codemirror_mode": {
    "name": "ipython",
    "version": 2
   },
   "file_extension": ".py",
   "mimetype": "text/x-python",
   "name": "python",
   "nbconvert_exporter": "python",
   "pygments_lexer": "ipython2",
   "version": "2.7.13"
  }
 },
 "nbformat": 4,
 "nbformat_minor": 1
}
